{
 "cells": [
  {
   "cell_type": "code",
   "execution_count": 1,
   "metadata": {},
   "outputs": [],
   "source": [
    "def total(a,b):\n",
    "    print (a+b)"
   ]
  },
  {
   "cell_type": "code",
   "execution_count": 2,
   "metadata": {},
   "outputs": [
    {
     "name": "stdout",
     "output_type": "stream",
     "text": [
      "102\n"
     ]
    }
   ],
   "source": [
    "total(57,45)"
   ]
  },
  {
   "cell_type": "code",
   "execution_count": 20,
   "metadata": {},
   "outputs": [],
   "source": [
    "def convert(number):\n",
    "    print (str(number))"
   ]
  },
  {
   "cell_type": "code",
   "execution_count": 16,
   "metadata": {},
   "outputs": [
    {
     "name": "stdout",
     "output_type": "stream",
     "text": [
      "34\n"
     ]
    }
   ],
   "source": [
    "convert(34)"
   ]
  },
  {
   "cell_type": "code",
   "execution_count": 29,
   "metadata": {},
   "outputs": [],
   "source": [
    "def printString(string1,string2):\n",
    "    print (int(string1)+int(string2))"
   ]
  },
  {
   "cell_type": "code",
   "execution_count": 30,
   "metadata": {},
   "outputs": [
    {
     "name": "stdout",
     "output_type": "stream",
     "text": [
      "59\n"
     ]
    }
   ],
   "source": [
    "printString('25','34')"
   ]
  },
  {
   "cell_type": "code",
   "execution_count": 33,
   "metadata": {},
   "outputs": [],
   "source": [
    "def Concatenate(stri1,stri2):\n",
    "    print (stri1+stri2)"
   ]
  },
  {
   "cell_type": "code",
   "execution_count": 34,
   "metadata": {},
   "outputs": [
    {
     "name": "stdout",
     "output_type": "stream",
     "text": [
      "2274\n"
     ]
    }
   ],
   "source": [
    "Concatenate('22','74')"
   ]
  },
  {
   "cell_type": "code",
   "execution_count": 1,
   "metadata": {},
   "outputs": [],
   "source": [
    "def EvenOdd(n):\n",
    "    if n%2 == 0:\n",
    "        print (\"It is an even number\")\n",
    "    else:\n",
    "        print (\"It is an odd number\")"
   ]
  },
  {
   "cell_type": "code",
   "execution_count": 2,
   "metadata": {},
   "outputs": [
    {
     "name": "stdout",
     "output_type": "stream",
     "text": [
      "It is an odd number\n"
     ]
    }
   ],
   "source": [
    "EvenOdd(99)"
   ]
  },
  {
   "cell_type": "code",
   "execution_count": null,
   "metadata": {},
   "outputs": [],
   "source": [
    "#Area of a triangle\n",
    "a = 0.5\n",
    "b = int(input(\"What is the base?\"))\n",
    "h = int(input(\"What is the height\"))\n",
    "def Area(b,h,a):\n",
    "    print(b*h*a)"
   ]
  },
  {
   "cell_type": "code",
   "execution_count": 4,
   "metadata": {},
   "outputs": [
    {
     "name": "stdout",
     "output_type": "stream",
     "text": [
      "What is your Grade?43\n"
     ]
    }
   ],
   "source": [
    "grade = int(input(\"What is your Grade?\")) \n",
    "def grade(score):\n",
    "    if grade < 40:\n",
    "        print('F')\n",
    "    elif grade < 50 :\n",
    "        print('D')\n",
    "    elif grade < 60 :\n",
    "        print('C')\n",
    "    elif grade < 70:\n",
    "        print('B')\n",
    "    else :\n",
    "        print('A')"
   ]
  },
  {
   "cell_type": "code",
   "execution_count": 6,
   "metadata": {},
   "outputs": [],
   "source": [
    "def smallest(num1, num2, num3):\n",
    "    if (num1 < num2) and (num1 < num3):\n",
    "        smallest_num = num1\n",
    "    elif (num2 < num1) and (num2 < num3):\n",
    "        smallest_num = num2\n",
    "    else:\n",
    "        smallest_num = num3\n",
    "    print(\"The smallest of the 3 numbers is : \", smallest_num)\n"
   ]
  },
  {
   "cell_type": "code",
   "execution_count": 7,
   "metadata": {},
   "outputs": [
    {
     "name": "stdout",
     "output_type": "stream",
     "text": [
      "The smallest of the 3 numbers is :  653\n"
     ]
    }
   ],
   "source": [
    "smallest(653,34777,2393)"
   ]
  },
  {
   "cell_type": "code",
   "execution_count": 12,
   "metadata": {},
   "outputs": [],
   "source": [
    "def largest(num1, num2, ):\n",
    "    if (num1 > num2):\n",
    "        largest_num = num1\n",
    "    elif (num2 > num1):\n",
    "        largest_num = num2\n",
    "    print(\"The largest of the 2 numbers is : \", largest_num)\n",
    "\n"
   ]
  },
  {
   "cell_type": "code",
   "execution_count": 13,
   "metadata": {},
   "outputs": [
    {
     "name": "stdout",
     "output_type": "stream",
     "text": [
      "The largest of the 2 numbers is :  3492374\n"
     ]
    }
   ],
   "source": [
    "largest(576,3492374)"
   ]
  },
  {
   "cell_type": "code",
   "execution_count": null,
   "metadata": {},
   "outputs": [],
   "source": []
  }
 ],
 "metadata": {
  "kernelspec": {
   "display_name": "Python 3",
   "language": "python",
   "name": "python3"
  },
  "language_info": {
   "codemirror_mode": {
    "name": "ipython",
    "version": 3
   },
   "file_extension": ".py",
   "mimetype": "text/x-python",
   "name": "python",
   "nbconvert_exporter": "python",
   "pygments_lexer": "ipython3",
   "version": "3.7.3"
  }
 },
 "nbformat": 4,
 "nbformat_minor": 2
}
